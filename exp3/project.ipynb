{
 "cells": [
  {
   "cell_type": "code",
   "execution_count": 11,
   "metadata": {},
   "outputs": [],
   "source": [
    "import missingno\n",
    "import sklearn\n",
    "import pandas as pd\n",
    "from sklearn.ensemble import GradientBoostingRegressor, RandomForestRegressor\n",
    "from xgboost import XGBRegressor\n",
    "from lightgbm import LGBMRegressor\n",
    "import numpy as np\n",
    "\n",
    "\n",
    "train = pd.read_csv(\"./train.csv\")\n",
    "test = pd.read_csv(\"./test.csv\")\n",
    "\n",
    "train['date'] = train['date'].apply(lambda x : str(x[:6]))\n",
    "test['date'] = test['date'].apply(lambda x : str(x[:6]))\n",
    "train.drop(\"id\", inplace=True, axis=1)\n",
    "test_id = test['id']\n",
    "test.drop(\"id\", inplace=True, axis=1)\n",
    "\n",
    "x = train.loc[:, train.columns!=\"price\"].values\n",
    "y = train['price'].values\n",
    "\n",
    "x_test = test.loc[:, test.columns!=\"price\"].values"
   ]
  },
  {
   "cell_type": "markdown",
   "metadata": {},
   "source": [
    "# Feature engineering"
   ]
  },
  {
   "cell_type": "code",
   "execution_count": null,
   "metadata": {},
   "outputs": [],
   "source": []
  },
  {
   "cell_type": "markdown",
   "metadata": {},
   "source": [
    "# 최적의 조합 찾기"
   ]
  },
  {
   "cell_type": "code",
   "execution_count": null,
   "metadata": {},
   "outputs": [],
   "source": [
    "from sklearn.model_selection import GridSearchCV"
   ]
  },
  {
   "cell_type": "markdown",
   "metadata": {},
   "source": [
    "# 앙상블"
   ]
  },
  {
   "cell_type": "code",
   "execution_count": 12,
   "metadata": {},
   "outputs": [
    {
     "name": "stdout",
     "output_type": "stream",
     "text": [
      "0.904346813417444\n",
      "0.9797712608708449\n",
      "0.9473488525779001\n",
      "0.9822189099341918\n",
      "(6468,) (6468, 19)\n"
     ]
    }
   ],
   "source": [
    "gboost = GradientBoostingRegressor()\n",
    "xgboost = XGBRegressor()\n",
    "lightgbm = LGBMRegressor()\n",
    "rdforest = RandomForestRegressor()\n",
    "\n",
    "models = [gboost, xgboost, lightgbm, rdforest]\n",
    "\n",
    "def AveragingBlending(models, x, y, x_test):\n",
    "    y_preds = []\n",
    "    for model in models :\n",
    "        model.fit(x, y)\n",
    "        print(model.score(x, y))\n",
    "        y_preds.append(model.predict(x_test))\n",
    "    \n",
    "    predictions = np.column_stack(y_preds)\n",
    "\n",
    "    return np.mean(predictions, axis=1)\n",
    "\n",
    "y_pred = AveragingBlending(models, x, y, x_test)\n",
    "print(y_pred.shape, x_test.shape)"
   ]
  },
  {
   "cell_type": "markdown",
   "metadata": {},
   "source": [
    "# 제출"
   ]
  },
  {
   "cell_type": "code",
   "execution_count": 19,
   "metadata": {},
   "outputs": [
    {
     "name": "stdout",
     "output_type": "stream",
     "text": [
      "fileName        date                 description  status    publicScore   privateScore  \n",
      "--------------  -------------------  -----------  --------  ------------  ------------  \n",
      "submission.csv  2023-07-11 18:47:10  Message      complete  120483.58675  115888.84862  \n",
      "submission.csv  2023-07-11 18:45:02  Message      complete  120483.58675  115888.84862  \n",
      "submission.csv  2023-07-11 18:15:15  Message      complete  115688.17397  115807.04439  \n",
      "submission.csv  2023-07-11 16:39:59  Message      error                                 \n",
      "submission.csv  2023-07-11 16:35:02  Message      error                                 \n"
     ]
    }
   ],
   "source": [
    "import kaggle\n",
    "\n",
    "\n",
    "result = pd.DataFrame({\n",
    "    \"id\": test_id,\n",
    "    \"price\": y_pred\n",
    "})\n",
    "result.to_csv(\"./submission.csv\", index=False)\n",
    "kaggle.api.competition_submit_cli(file_name=\"submission.csv\", competition=\"2019-2nd-ml-month-with-kakr\", message=\"Message\")\n",
    "kaggle.api.competition_submissions_cli(competition=\"2019-2nd-ml-month-with-kakr\")"
   ]
  }
 ],
 "metadata": {
  "kernelspec": {
   "display_name": ".venv",
   "language": "python",
   "name": "python3"
  },
  "language_info": {
   "codemirror_mode": {
    "name": "ipython",
    "version": 3
   },
   "file_extension": ".py",
   "mimetype": "text/x-python",
   "name": "python",
   "nbconvert_exporter": "python",
   "pygments_lexer": "ipython3",
   "version": "3.11.3"
  },
  "orig_nbformat": 4
 },
 "nbformat": 4,
 "nbformat_minor": 2
}
