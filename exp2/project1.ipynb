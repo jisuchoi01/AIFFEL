{
 "cells": [
  {
   "attachments": {},
   "cell_type": "markdown",
   "metadata": {},
   "source": [
    "# 목표\n",
    "MSE Loss값 3000이하로 떨어뜨리기"
   ]
  },
  {
   "cell_type": "code",
   "execution_count": 49,
   "metadata": {},
   "outputs": [
    {
     "name": "stdout",
     "output_type": "stream",
     "text": [
      "['age', 'sex', 'bmi', 'bp', 's1', 's2', 's3', 's4', 's5', 's6']\n"
     ]
    }
   ],
   "source": [
    "from sklearn import datasets\n",
    "from sklearn.model_selection import train_test_split\n",
    "import numpy as np\n",
    "\n",
    "\n",
    "data = datasets.load_diabetes()\n",
    "print(data[\"feature_names\"])\n",
    "x = data.data\n",
    "y = data.target\n",
    "\n",
    "X_train, X_test, y_train, y_test = train_test_split(x, y, test_size=0.2, random_state=42)"
   ]
  },
  {
   "cell_type": "code",
   "execution_count": 54,
   "metadata": {},
   "outputs": [
    {
     "name": "stdout",
     "output_type": "stream",
     "text": [
      "Iteration[0]: Loss 29273.619571267587\n",
      "Iteration[100000]: Loss 2979.0827349611773\n",
      "Iteration[200000]: Loss 2906.16829894976\n",
      "Iteration[300000]: Loss 2898.7508456042774\n",
      "Iteration[400000]: Loss 2897.0887100973255\n",
      "Iteration[500000]: Loss 2896.2140622590146\n",
      "Iteration[600000]: Loss 2895.4920238403843\n",
      "Iteration[700000]: Loss 2894.814275780093\n",
      "Iteration[800000]: Loss 2894.1592685185287\n",
      "Iteration[900000]: Loss 2893.522120216347\n"
     ]
    }
   ],
   "source": [
    "def MSE(a, b):\n",
    "    return ((a - b)**2).mean()\n",
    "\n",
    "\n",
    "def loss(X, y, W, b):\n",
    "    predictions = model(X, W, b)\n",
    "    L = MSE(predictions, y)\n",
    "    return L\n",
    "\n",
    "\n",
    "def model(x, w, b):\n",
    "    return x @ w.T + b\n",
    "\n",
    "\n",
    "def gradient(x, y, w, b):\n",
    "    N = len(y)\n",
    "    \n",
    "    # y_pred 준비\n",
    "    y_pred = model(x, w, b)\n",
    "    \n",
    "    # 공식에 맞게 gradient 계산\n",
    "    dw = 1/N * 2 * x.T.dot(y_pred - y)\n",
    "        \n",
    "    # b의 gradient 계산\n",
    "    db = 2 * (y_pred - y).mean()\n",
    "\n",
    "    return dw, db\n",
    "\n",
    "\n",
    "def train(x, y, epoch=1000000, learning_rate=0.003):\n",
    "    losses = []\n",
    "\n",
    "    W = np.random.rand(x.shape[1])\n",
    "    b = np.random.rand()    \n",
    "    \n",
    "    for i in range(epoch):\n",
    "         dw, db = gradient(x, y, W, b)\n",
    "         W -= learning_rate * dw\n",
    "         b -= learning_rate * db\n",
    "         L = loss(x, y, W, b)\n",
    "         losses.append(L)\n",
    "         \n",
    "         if i % 100000 == 0:\n",
    "            print(f'Iteration[{i}]: Loss {L}')\n",
    "\n",
    "    return losses, W, b\n",
    "\n",
    "losses, w, b = train(X_train, y_train)"
   ]
  },
  {
   "cell_type": "code",
   "execution_count": 61,
   "metadata": {},
   "outputs": [
    {
     "data": {
      "image/png": "[encoded data removed]",
      "text/plain": [
       "<Figure size 640x480 with 1 Axes>"
      ]
     },
     "metadata": {},
     "output_type": "display_data"
    }
   ],
   "source": [
    "import matplotlib.pyplot as plt\n",
    "\n",
    "y_pred = model(X_test, w, b)\n",
    "\n",
    "plt.scatter(y_pred, y_test, c=\"r\")\n",
    "plt.show()"
   ]
  },
  {
   "attachments": {},
   "cell_type": "markdown",
   "metadata": {},
   "source": [
    "# 결과\n",
    "MSE를 낮추는데 epoch를 많이 돌리는 것 보다 learning rate를 적절히 올려주는 것이 좋음"
   ]
  }
 ],
 "metadata": {
  "kernelspec": {
   "display_name": ".venv",
   "language": "python",
   "name": "python3"
  },
  "language_info": {
   "codemirror_mode": {
    "name": "ipython",
    "version": 3
   },
   "file_extension": ".py",
   "mimetype": "text/x-python",
   "name": "python",
   "nbconvert_exporter": "python",
   "pygments_lexer": "ipython3",
   "version": "3.10.6"
  },
  "orig_nbformat": 4
 },
 "nbformat": 4,
 "nbformat_minor": 2
}
